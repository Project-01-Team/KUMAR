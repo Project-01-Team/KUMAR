{
 "cells": [
  {
   "cell_type": "code",
   "execution_count": 3,
   "metadata": {},
   "outputs": [],
   "source": [
    "2+2"
   ]
  },
  {
   "cell_type": "code",
   "execution_count": null,
   "metadata": {},
   "outputs": [],
   "source": [
    ">>> list1 = [1,3,5,6]\n",
    ">>> list2 = list1\n",
    ">>> list1 = list1[0:2] + [7] + list1[3:]\n",
    "\n"
   ]
  },
  {
   "cell_type": "code",
   "execution_count": null,
   "metadata": {},
   "outputs": [],
   "source": [
    "def factors(n):\n",
    "    for i in range(1,n+1):\n",
    "     if n%i == 0:\n",
    "        flist.append(i)\n",
    "    reture(flist)\n"
   ]
  },
  {
   "cell_type": "code",
   "execution_count": null,
   "metadata": {},
   "outputs": [],
   "source": [
    "def findpos(l,v):\n",
    "    (found,i) = (false,0)\n",
    "    while i < len(l):\n",
    "     if l[i] == v:\n",
    "        (found,pos) = (True,i)\n",
    "    if not found:\n",
    "        pos = -1\n",
    "    return(pos)"
   ]
  },
  {
   "cell_type": "code",
   "execution_count": null,
   "metadata": {},
   "outputs": [],
   "source": [
    "def findpos(l,v):\n",
    "   for x in l:\n",
    "    if x == v"
   ]
  },
  {
   "cell_type": "code",
   "execution_count": null,
   "metadata": {},
   "outputs": [],
   "source": [
    "from re import I\n",
    "\n",
    "\n",
    "def findpos(l,v)\n",
    "     (pos,i) = (-1,0)\n",
    "    for x i\n",
    "     if x == v:\n",
    "        pos = I\n",
    "        break\n",
    "     i = i+1\n",
    "\n"
   ]
  },
  {
   "cell_type": "code",
   "execution_count": null,
   "metadata": {},
   "outputs": [],
   "source": [
    "def findpos(l,v)\n",
    "pos = -1\n",
    "for i in range(len(l)):\n",
    "    if l[i] == v:\n",
    "        pos = i\n",
    "        return(pos)"
   ]
  },
  {
   "cell_type": "code",
   "execution_count": null,
   "metadata": {},
   "outputs": [],
   "source": [
    "def search(seq,v):\n",
    "    for x in seq:\n",
    "        if x == v:\n",
    "            return(True)\n",
    "        return(False)"
   ]
  },
  {
   "cell_type": "code",
   "execution_count": null,
   "metadata": {},
   "outputs": [],
   "source": [
    "def merge(A,B):\n",
    "    (C,m,n) = ([],len(A),len(B))\n",
    "    (i,j) = (0,0)\n",
    "  while i+j < m+n:\n",
    "    if j == n:\n",
    "      C.append(A[j])\n",
    "        i = i+1\n",
    "    if i == m:\n",
    "        C.append(B[j])\n",
    "        j = j+1\n",
    "    elif A[i] <= B[j]:\n",
    "        C.append(B[j])\n",
    "        j = j+1\n",
    "    elif A[i] > B[j]:\n",
    "        C.append(B[j])\n",
    "        j = j+1\n",
    "  return(C)\n",
    "        "
   ]
  },
  {
   "cell_type": "code",
   "execution_count": null,
   "metadata": {},
   "outputs": [],
   "source": [
    "\n"
   ]
  },
  {
   "cell_type": "code",
   "execution_count": null,
   "metadata": {},
   "outputs": [],
   "source": [
    "def mergesort(A,left,right):\n",
    "    if right - left <= 1:\n",
    "        return(A[left:right])\n",
    "    if right - left > 1:\n",
    "        mmid = (left+right)//2\n",
    "        L = mergesort(A,left,min)\n",
    "        R = mergesort(A,mid,right)\n",
    "        return(merge(L,R))\n",
    "    "
   ]
  },
  {
   "cell_type": "code",
   "execution_count": null,
   "metadata": {},
   "outputs": [],
   "source": [
    "a = list(range(1,100,2)) + list(range(0,100,2))"
   ]
  },
  {
   "cell_type": "code",
   "execution_count": null,
   "metadata": {},
   "outputs": [],
   "source": [
    "a"
   ]
  },
  {
   "cell_type": "code",
   "execution_count": null,
   "metadata": {},
   "outputs": [],
   "source": [
    "def Quicksort(A,l,r):\n",
    "    if r - l <= 1:\n",
    "        return ()\n",
    "    yello = l+1\n",
    "    for green in range(l+1,r):\n",
    "        if A[green] <= A[l]:\n",
    "            (A[yellow],A[green]) = (A[green],A[yellow])\n",
    "            yellow = yellow + 1\n",
    "    (A[l],A[yellow-1]) = (A[yellow-1],A[l])\n",
    "    Quicksort(A,l,yellow-1)\n",
    "    Quicksort(A,yellow,r)"
   ]
  },
  {
   "cell_type": "code",
   "execution_count": null,
   "metadata": {},
   "outputs": [],
   "source": [
    "\n",
    "def square(x):\n",
    "    return(x*x)\n",
    "def iseven(x):\n",
    "    return(x%2 == 0)\n"
   ]
  },
  {
   "cell_type": "code",
   "execution_count": null,
   "metadata": {},
   "outputs": [
    {
     "data": {
      "text/plain": [
       "64"
      ]
     },
     "execution_count": 5,
     "metadata": {},
     "output_type": "execute_result"
    }
   ],
   "source": [
    "square(8)"
   ]
  },
  {
   "cell_type": "code",
   "execution_count": null,
   "metadata": {},
   "outputs": [
    {
     "data": {
      "text/plain": [
       "False"
      ]
     },
     "execution_count": 6,
     "metadata": {},
     "output_type": "execute_result"
    }
   ],
   "source": [
    "iseven(67)"
   ]
  },
  {
   "cell_type": "code",
   "execution_count": null,
   "metadata": {},
   "outputs": [],
   "source": [
    "import random\n",
    "def randomize(l):\n",
    "    for i in range(len(l)//2):\n",
    "        j = random.randrange(0,len(l),1)\n",
    "        k =  randon.randrange(0,len(l),1)\n",
    "        (l[j],l[k]) = (l[k],l[j])\n"
   ]
  },
  {
   "cell_type": "markdown",
   "metadata": {},
   "source": []
  },
  {
   "cell_type": "code",
   "execution_count": null,
   "metadata": {},
   "outputs": [
    {
     "ename": "SyntaxError",
     "evalue": "invalid syntax (3384744590.py, line 7)",
     "output_type": "error",
     "traceback": [
      "\u001b[0;36m  File \u001b[0;32m\"/tmp/ipykernel_3870/3384744590.py\"\u001b[0;36m, line \u001b[0;32m7\u001b[0m\n\u001b[0;31m    else:\u001b[0m\n\u001b[0m    ^\u001b[0m\n\u001b[0;31mSyntaxError\u001b[0m\u001b[0;31m:\u001b[0m invalid syntax\n"
     ]
    }
   ],
   "source": [
    "while(True):\n",
    "    try:\n",
    "        userdata = input(\"enter a no: \")\n",
    "        usernum = input(userdata)\n",
    "    except ValueError:\n",
    "        # Do nothing\n",
    "        else:\n",
    "            break"
   ]
  },
  {
   "cell_type": "code",
   "execution_count": null,
   "metadata": {},
   "outputs": [
    {
     "ename": "SyntaxError",
     "evalue": "invalid syntax (3986921160.py, line 2)",
     "output_type": "error",
     "traceback": [
      "\u001b[0;36m  File \u001b[0;32m\"/tmp/ipykernel_3870/3986921160.py\"\u001b[0;36m, line \u001b[0;32m2\u001b[0m\n\u001b[0;31m    for each c such that (i,c) is available;\u001b[0m\n\u001b[0m             ^\u001b[0m\n\u001b[0;31mSyntaxError\u001b[0m\u001b[0;31m:\u001b[0m invalid syntax\n"
     ]
    }
   ],
   "source": [
    "def placequeen(i,board):\n",
    "    for each c such that (i,c) is available:\n",
    "        place queen at (i,c) and update board\n",
    "        if i = n-1:\n",
    "            return(True)\n",
    "        else:\n",
    "            extendsoln = placequeen(i+1,board)\n",
    "        if extendsoln:\n",
    "            return(True)\n",
    "        else:\n",
    "            undo this move and update board\n",
    "    else:\n",
    "        return(False)"
   ]
  },
  {
   "cell_type": "code",
   "execution_count": null,
   "metadata": {},
   "outputs": [
    {
     "name": "stdout",
     "output_type": "stream",
     "text": [
      "7\n"
     ]
    }
   ],
   "source": [
    "def f():\n",
    "    y = x[0]\n",
    "    print(y)\n",
    "    x[0] = 22\n",
    "x = [7]\n",
    "f()"
   ]
  },
  {
   "cell_type": "code",
   "execution_count": null,
   "metadata": {},
   "outputs": [
    {
     "name": "stdout",
     "output_type": "stream",
     "text": [
      "22\n"
     ]
    }
   ],
   "source": [
    "def f():\n",
    "    def g(a):\n",
    "        return(a+1)\n",
    "    def h(b):\n",
    "        return(2*b)\n",
    "    global x\n",
    "    y = g(x) + h(x)\n",
    "    print(y)\n",
    "    x = 22\n",
    "x = 7\n",
    "f()"
   ]
  },
  {
   "cell_type": "code",
   "execution_count": null,
   "metadata": {},
   "outputs": [
    {
     "ename": "SyntaxError",
     "evalue": "invalid syntax (1654739513.py, line 1)",
     "output_type": "error",
     "traceback": [
      "\u001b[0;36m  File \u001b[0;32m\"/tmp/ipykernel_3537/1654739513.py\"\u001b[0;36m, line \u001b[0;32m1\u001b[0m\n\u001b[0;31m    def explore((sx,sy),(tx,ty)):\u001b[0m\n\u001b[0m                ^\u001b[0m\n\u001b[0;31mSyntaxError\u001b[0m\u001b[0;31m:\u001b[0m invalid syntax\n"
     ]
    }
   ],
   "source": [
    "def explore((sx,sy),(tx,ty)):\n",
    "    marked = [[0 for i in range(n)]\n",
    "                        for j in range(m)]\n",
    "    marked[sx][sy] = 1\n",
    "    queue = [(sx,sy)]\n",
    "    while queue != []:\n",
    "        (ax,ay) = queue,pop()\n",
    "        for (nx,ny) in neighbours((ax,ay)):\n",
    "            if !marked[nx][ny]:\n",
    "                marked[nx][ny] = 1 \n",
    "                queue.insert(0,(nx,ny))\n",
    "    return(marked[tx][ty])\n"
   ]
  },
  {
   "cell_type": "code",
   "execution_count": null,
   "metadata": {},
   "outputs": [],
   "source": [
    "\n",
    "    "
   ]
  },
  {
   "cell_type": "code",
   "execution_count": null,
   "metadata": {},
   "outputs": [],
   "source": [
    "from random import betavariate\n",
    "\n",
    "\n",
    "class Point:\n",
    "    def __inif__(self,a,b):\n",
    "        self.x = a\n",
    "        self.y = b\n",
    "    def trenslate(self,deltax,deltay):\n",
    "        self.x += deltax\n",
    "        self.y += deltay\n",
    "        p = Point(3,2)\n",
    "        p.translate(2,1)"
   ]
  },
  {
   "cell_type": "code",
   "execution_count": null,
   "metadata": {},
   "outputs": [],
   "source": [
    "class Point:\n",
    "    def odistance(self):\n",
    "        return(\n",
    "            sqrt(\n",
    "                (self.x*self.x) + (self.y*self.y)\n",
    "            )\n",
    "        )"
   ]
  },
  {
   "cell_type": "code",
   "execution_count": null,
   "metadata": {},
   "outputs": [
    {
     "ename": "SyntaxError",
     "evalue": "incomplete input (2791313495.py, line 10)",
     "output_type": "error",
     "traceback": [
      "\u001b[0;36m  File \u001b[0;32m\"/tmp/ipykernel_5623/2791313495.py\"\u001b[0;36m, line \u001b[0;32m10\u001b[0m\n\u001b[0;31m    def translate(self,seltax,deltay):\u001b[0m\n\u001b[0m                                      ^\u001b[0m\n\u001b[0;31mSyntaxError\u001b[0m\u001b[0;31m:\u001b[0m incomplete input\n"
     ]
    }
   ],
   "source": [
    "class Point:\n",
    "    def __init__(self,a,b):\n",
    "        self.r = sqrt(a*a + b*b)\n",
    "        if a==0:\n",
    "            self.theta = 0\n",
    "        else:\n",
    "            self.theta = atan(b/a)\n",
    "    def odistance(self):\n",
    "        return(self.r)\n",
    "    def translate(self,seltax,deltay):"
   ]
  },
  {
   "cell_type": "code",
   "execution_count": null,
   "metadata": {},
   "outputs": [],
   "source": [
    "def append(self,v):\n",
    "    if self.isempty():\n",
    "      self.value = v\n",
    "    elif self.next == None:\n",
    "        newnode = Node(v)\n",
    "        slef.next = newnode\n",
    "\n",
    "    else:\n",
    "        (self.next).append(v)\n",
    "    return()"
   ]
  },
  {
   "cell_type": "code",
   "execution_count": null,
   "metadata": {},
   "outputs": [
    {
     "ename": "SyntaxError",
     "evalue": "expected ':' (2520931412.py, line 5)",
     "output_type": "error",
     "traceback": [
      "\u001b[0;36m  File \u001b[0;32m\"/tmp/ipykernel_5623/2520931412.py\"\u001b[0;36m, line \u001b[0;32m5\u001b[0m\n\u001b[0;31m    if self.next == None\u001b[0m\n\u001b[0m                        ^\u001b[0m\n\u001b[0;31mSyntaxError\u001b[0m\u001b[0;31m:\u001b[0m expected ':'\n"
     ]
    }
   ],
   "source": [
    "def delete(self,x):\n",
    "    if self.isempty():\n",
    "      return()\n",
    "    if self.value == x:\n",
    "        if self.next == None\n",
    "          self.value = None\n",
    "        else:\n",
    "          self.value = self.next.value\n",
    "          self.next = self.next.next\n",
    "          return()\n",
    "    temp = self\n",
    "    while temp.next != None:\n",
    "       if temp.next = temp.next.next\n",
    "        return()\n",
    "       else:\n",
    "        temp = temp.next\n",
    "    return()\n",
    "    \n"
   ]
  },
  {
   "cell_type": "code",
   "execution_count": null,
   "metadata": {},
   "outputs": [],
   "source": [
    "from re import S\n",
    "\n",
    "\n",
    "def __str__(self):\n",
    "    selflist = []\n",
    "    if self.value == None:\n",
    "        return(str(selflist))\n",
    "    temp = self\n",
    "    selflist.append(temp.value)\n",
    "    while temp.next != None:\n",
    "        temp = temp.next\n",
    "        selflist.append(temp.value)\n",
    "    return(str(selflist))"
   ]
  },
  {
   "cell_type": "code",
   "execution_count": null,
   "metadata": {},
   "outputs": [],
   "source": [
    "class Node:\n",
    "    def __init__(self,v = None):\n",
    "        self.value = v\n",
    "        self.next = None\n",
    "        return\n",
    "    def isempty"
   ]
  },
  {
   "cell_type": "code",
   "execution_count": null,
   "metadata": {},
   "outputs": [
    {
     "ename": "IndentationError",
     "evalue": "unindent does not match any outer indentation level (<tokenize>, line 12)",
     "output_type": "error",
     "traceback": [
      "\u001b[0;36m  File \u001b[0;32m\"<tokenize>\"\u001b[0;36m, line \u001b[0;32m12\u001b[0m\n\u001b[0;31m    def isempty(self):\u001b[0m\n\u001b[0m    ^\u001b[0m\n\u001b[0;31mIndentationError\u001b[0m\u001b[0;31m:\u001b[0m unindent does not match any outer indentation level\n"
     ]
    }
   ],
   "source": [
    "def __init__(self,initval=None):\n",
    "        self.value = initval\n",
    "        if self.value:\n",
    "            self.left = Tree()\n",
    "            self.right = Tree()\n",
    "        else:\n",
    "            self.left = None\n",
    "            self.right = None\n",
    "        return\n",
    "\n",
    "    # Only empty node has value None\n",
    "    def isempty(self):\n",
    "        return (self.value == None)\n",
    "\n",
    "    # Leaf nodes have both children empty\n",
    "    def isleaf(self):\n",
    "        return (self.left.isempty() and self.right.isempty())\n",
    "\n",
    "    # Convert a leaf node to an empty node\n",
    "    def makeempty(self):\n",
    "        self.value = None\n",
    "        self.left = None\n",
    "        self.right = None\n",
    "        return\n",
    "\n",
    "    # Copy right child values to current node\n",
    "    def copyright(self):\n",
    "        self.value = self.right.value\n",
    "        self.left = self.right.left\n",
    "        self.right = self.right.right\n",
    "        return\n",
    "    \n",
    "    # Check if value v occurs in tree\n",
    "    def find(self,v):\n",
    "        if self.isempty():\n",
    "            return(False)\n",
    "\n",
    "        if self.value == v:\n",
    "            return(True)\n",
    "\n",
    "        if v < self.value:\n",
    "            return(self.left.find(v))\n",
    "\n",
    "        if v > self.value:\n",
    "            return(self.right.find(v))\n",
    "\n",
    "    # Insert value v in tree\n",
    "    def insert(self,v):\n",
    "        if self.isempty():\n",
    "            self.value = v\n",
    "            self.left = Tree()\n",
    "            self.right = Tree()\n",
    "\n",
    "        if self.value == v:\n",
    "            return\n",
    "\n",
    "        if v < self.value:\n",
    "            self.left.insert(v)\n",
    "            return\n",
    "\n",
    "        if v > self.value:\n",
    "            self.right.insert(v)\n",
    "            return\n",
    "\n",
    "    # Find maximum value in a nonempty tree\n",
    "    def maxval(self):\n",
    "        if self.right.isempty():\n",
    "            return(self.value)\n",
    "        else:\n",
    "            return(self.right.maxval())\n",
    "\n",
    "    # Delete value v from tree\n",
    "    def delete(self,v):\n",
    "        if self.isempty():\n",
    "            return\n",
    "\n",
    "        if v < self.value:\n",
    "            self.left.delete(v)\n",
    "            return\n",
    "\n",
    "        if v > self.value:\n",
    "            self.right.delete(v)\n",
    "            return\n",
    "\n",
    "        if v == self.value:\n",
    "            if self.isleaf():\n",
    "                self.makeempty()\n",
    "            elif self.left.isempty():\n",
    "                self.copyright()\n",
    "            else:\n",
    "                self.value = self.left.maxval()\n",
    "                self.left.delete(self.left.maxval())\n",
    "            return\n",
    "\n",
    "    # Inorder traversal\n",
    "    def inorder(self):\n",
    "        if self.isempty():\n",
    "            return([])\n",
    "        else:\n",
    "            return(self.left.inorder()+[self.value]+self.right.inorder())\n",
    "\n",
    "    # Display Tree as a string\n",
    "    def __str__(self):\n",
    "        return(str(self.inorder()))"
   ]
  },
  {
   "cell_type": "code",
   "execution_count": null,
   "metadata": {},
   "outputs": [],
   "source": [
    "def __init__(self,initval=None):\n",
    "        self.value = initval\n",
    "        if self.value:\n",
    "            self.left = Tree()\n",
    "            self.right = Tree()\n",
    "        else:\n",
    "            self.left = None\n",
    "            self.right = None\n",
    "        return"
   ]
  },
  {
   "cell_type": "code",
   "execution_count": null,
   "metadata": {},
   "outputs": [
    {
     "ename": "IndentationError",
     "evalue": "unexpected indent (334841584.py, line 2)",
     "output_type": "error",
     "traceback": [
      "\u001b[0;36m  File \u001b[0;32m\"/tmp/ipykernel_4192/334841584.py\"\u001b[0;36m, line \u001b[0;32m2\u001b[0m\n\u001b[0;31m    def inorder(self):\u001b[0m\n\u001b[0m    ^\u001b[0m\n\u001b[0;31mIndentationError\u001b[0m\u001b[0;31m:\u001b[0m unexpected indent\n"
     ]
    }
   ],
   "source": [
    "\n",
    "# Inorder traversal\n",
    "    def inorder(self):\n",
    "        if self.isempty():\n",
    "            return([])\n",
    "        else:\n",
    "            return(self.left.inorder()+[self.value]+self.right.inorder())\n",
    "\n",
    "    # Display Tree as a string\n",
    "    def __str__(self):\n",
    "        return(str(self.inorder()))"
   ]
  },
  {
   "cell_type": "code",
   "execution_count": null,
   "metadata": {},
   "outputs": [],
   "source": [
    "def delete(self,v):\n",
    "        if self.isempty():\n",
    "            return\n",
    "\n",
    "        if v < self.value:\n",
    "            self.left.delete(v)\n",
    "            return\n",
    "\n",
    "        if v > self.value:\n",
    "            self.right.delete(v)\n",
    "            return\n",
    "\n",
    "        if v == self.value:\n",
    "            if self.isleaf():\n",
    "                self.makeempty()\n",
    "            elif self.left.isempty():\n",
    "                self.copyright()\n",
    "            else:\n",
    "                self.value = self.left.maxval()\n",
    "                self.left.delete(self.left.maxval())\n",
    "            return"
   ]
  },
  {
   "cell_type": "code",
   "execution_count": null,
   "metadata": {},
   "outputs": [],
   "source": [
    "def insert(self,v):\n",
    "        if self.isempty():\n",
    "            self.value = v\n",
    "            self.left = Tree()\n",
    "            self.right = Tree()\n",
    "\n",
    "        if self.value == v:\n",
    "            return\n",
    "\n",
    "        if v < self.value:\n",
    "            self.left.insert(v)\n",
    "            return\n",
    "\n",
    "        if v > self.value:\n",
    "            self.right.insert(v)\n",
    "            return\n"
   ]
  },
  {
   "cell_type": "code",
   "execution_count": null,
   "metadata": {},
   "outputs": [
    {
     "ename": "IndentationError",
     "evalue": "unexpected indent (4211054818.py, line 7)",
     "output_type": "error",
     "traceback": [
      "\u001b[0;36m  File \u001b[0;32m\"/tmp/ipykernel_5091/4211054818.py\"\u001b[0;36m, line \u001b[0;32m7\u001b[0m\n\u001b[0;31m    for k in range(r,c)\u001b[0m\n\u001b[0m    ^\u001b[0m\n\u001b[0;31mIndentationError\u001b[0m\u001b[0;31m:\u001b[0m unexpected indent\n"
     ]
    }
   ],
   "source": [
    "def MMC(R,C):\n",
    "    for r in range(len(R)):\n",
    "        MMC[r][r] = 0\n",
    "    for c in range(1,len(R)):\n",
    "       for r in range(c-1,-1,-1):\n",
    "            MMC[r][c] = infinity\n",
    "            for k in range(r,c)\n",
    "             subprob = MMC[r][k] + MMC[k][c]+R[r]C[k]C[c]\n",
    "             if subprob < MMC[r][c]:\n",
    "                MMC[r][c] = subprob"
   ]
  },
  {
   "cell_type": "markdown",
   "metadata": {},
   "source": []
  },
  {
   "cell_type": "code",
   "execution_count": null,
   "metadata": {},
   "outputs": [
    {
     "name": "stdout",
     "output_type": "stream",
     "text": [
      "1\n",
      "2\n",
      "3\n",
      "4\n",
      "5\n",
      "6\n",
      "7\n",
      "8\n",
      "9\n",
      "10\n",
      "11\n",
      "12\n",
      "13\n",
      "14\n",
      "15\n",
      "16\n",
      "17\n",
      "18\n",
      "19\n",
      "20\n",
      "21\n",
      "22\n",
      "23\n",
      "24\n",
      "25\n",
      "26\n",
      "27\n",
      "28\n",
      "29\n",
      "30\n",
      "31\n",
      "32\n",
      "33\n",
      "34\n",
      "35\n",
      "36\n",
      "37\n",
      "38\n",
      "39\n",
      "40\n",
      "41\n",
      "42\n",
      "43\n",
      "44\n",
      "45\n",
      "46\n",
      "47\n",
      "48\n",
      "49\n",
      "50\n",
      "51\n",
      "52\n",
      "53\n",
      "54\n",
      "55\n",
      "56\n",
      "57\n",
      "58\n",
      "59\n",
      "60\n",
      "61\n",
      "62\n",
      "63\n",
      "64\n",
      "65\n",
      "66\n",
      "67\n",
      "68\n",
      "69\n",
      "70\n",
      "71\n",
      "72\n",
      "73\n",
      "74\n",
      "75\n",
      "76\n",
      "77\n",
      "78\n",
      "79\n",
      "80\n",
      "81\n",
      "82\n",
      "83\n",
      "84\n",
      "85\n",
      "86\n",
      "87\n",
      "88\n",
      "89\n",
      "90\n",
      "91\n",
      "92\n",
      "93\n",
      "94\n",
      "95\n",
      "96\n",
      "97\n",
      "98\n",
      "99\n"
     ]
    }
   ],
   "source": [
    "from os import NGROUPS_MAX\n",
    "\n",
    "\n",
    "num=1\n",
    "while num<100:\n",
    "    print(num)\n",
    "    num=num+1\n",
    "    if(num%10==0):\n",
    "        print()"
   ]
  },
  {
   "cell_type": "code",
   "execution_count": null,
   "metadata": {},
   "outputs": [
    {
     "name": "stdout",
     "output_type": "stream",
     "text": [
      "1  3  5  7  9  11  13  15  17  19  21  \n",
      "23  25  27  29  31  33  35  37  39  41  43  \n",
      "45  47  49  51  53  55  57  59  61  63  65  \n",
      "67  69  71  73  75  77  79  81  83  85  87  \n",
      "89  91  93  95  97  99  "
     ]
    }
   ],
   "source": [
    "num=1\n",
    "while num<100:\n",
    "    print(num,end=\"  \")\n",
    "    num=num+1\n",
    "    if(num%10==0):\n",
    "        print()\n",
    "    num=num+1"
   ]
  },
  {
   "cell_type": "code",
   "execution_count": null,
   "metadata": {},
   "outputs": [],
   "source": [
    "ans=\"y\"\n",
    "s=0\n",
    "while ans==\"y\":\n",
    "    num=int(input(\"enter num\"))\n",
    "    s=s+num\n",
    "    ans=input(\"continus(y/n)\")\n",
    "print(f\"addition: {s}\")\n"
   ]
  },
  {
   "cell_type": "code",
   "execution_count": null,
   "metadata": {},
   "outputs": [],
   "source": [
    "for i in range(5):\n",
    "    print(i)\n",
    "print(\"*\"*80)\n",
    "for i in range(1,5):\n",
    "    print(i)\n",
    "\n",
    "for i in range(1,10,2):\n",
    "    print(i,end=\",\")\n",
    "\n",
    "num=int(input(\"entar num\"))\n",
    "fact=1\n",
    "for i in range(1,num+1):\n",
    "    fact=fact*i\n",
    "print(f\"factorial :{fact}\")\n",
    "num=int(input(\"enter num\"))\n",
    "num1=num\n",
    "while num1!=0:\n",
    "    d=num1%10\n",
    "    num1=num1//10 #num1\\\\10\n",
    "    s=s+d\n",
    "print(f\"addition of digits od {num} is {s}\")\n"
   ]
  },
  {
   "cell_type": "code",
   "execution_count": null,
   "metadata": {},
   "outputs": [],
   "source": [
    "num=int(input(\"enter number\"))\n",
    "if(num<0):\n",
    "    num=abs(num)\n",
    "flag=True\n",
    "if num==1 or num==2:\n",
    "    print(\" number is prime\")\n",
    "else:\n",
    "    for i in range(2,num):\n",
    "        if num%i==0:\n",
    "        #flag=False\n",
    "          print(\"no is not prime\")\n",
    "          break\n",
    "        print(\"number is prime\")\n",
    "    else:\n",
    "     print(\"number is not prime\")\n",
    "#for i in range(2,num//2+1):\n",
    "#    if num%i==0:\n",
    " #       i=i+1\n",
    "  #      break\n",
    "#print(\"number is prime\")"
   ]
  },
  {
   "cell_type": "code",
   "execution_count": null,
   "metadata": {},
   "outputs": [],
   "source": [
    "num=int(input(\"enter number\"))\n",
    "s=0\n",
    "while num%11!=0:\n",
    "    s=s+num\n",
    "    num=int(input(\"enter number\"))\n",
    "    "
   ]
  },
  {
   "cell_type": "code",
   "execution_count": null,
   "metadata": {},
   "outputs": [],
   "source": [
    "flag=True\n",
    "for i in range(2,4):\n",
    "    if num%i==0:\n",
    "        flag=False\n",
    "        break\n",
    "if flag:\n",
    "    print(\"number is prime\")\n",
    "else:\n",
    "    print(\"number is not prime\")\n",
    "    "
   ]
  },
  {
   "cell_type": "code",
   "execution_count": null,
   "metadata": {},
   "outputs": [],
   "source": []
  },
  {
   "cell_type": "code",
   "execution_count": null,
   "metadata": {},
   "outputs": [],
   "source": []
  },
  {
   "cell_type": "code",
   "execution_count": null,
   "metadata": {},
   "outputs": [],
   "source": []
  },
  {
   "cell_type": "code",
   "execution_count": null,
   "metadata": {},
   "outputs": [],
   "source": []
  }
 ],
 "metadata": {
  "kernelspec": {
   "display_name": "Python 3.10.6 64-bit",
   "language": "python",
   "name": "python3"
  },
  "language_info": {
   "codemirror_mode": {
    "name": "ipython",
    "version": 3
   },
   "file_extension": ".py",
   "mimetype": "text/x-python",
   "name": "python",
   "nbconvert_exporter": "python",
   "pygments_lexer": "ipython3",
   "version": "3.10.6"
  },
  "orig_nbformat": 4,
  "vscode": {
   "interpreter": {
    "hash": "e7370f93d1d0cde622a1f8e1c04877d8463912d04d973331ad4851f04de6915a"
   }
  }
 },
 "nbformat": 4,
 "nbformat_minor": 2
}
